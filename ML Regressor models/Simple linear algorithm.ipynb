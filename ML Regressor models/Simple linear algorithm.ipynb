{
 "cells": [
  {
   "cell_type": "markdown",
   "id": "829a0435-74f0-4b3e-aafb-fa9bba2f29c4",
   "metadata": {},
   "source": [
    "# // SIMPLE LINEAR REGRESSION MODEL //"
   ]
  },
  {
   "cell_type": "markdown",
   "id": "5d1d44ea-7fe0-48e3-8f71-091cb10f459b",
   "metadata": {},
   "source": [
    "#Importing necessary libraries for data preprocessing"
   ]
  },
  {
   "cell_type": "code",
   "execution_count": 1,
   "id": "8f44b7f5-f428-4403-a1e9-ec6543365ff5",
   "metadata": {},
   "outputs": [],
   "source": [
    "import pandas as pd #For reading the dataset and to perform framing functions if needed\n",
    "import numpy as np  #linear algebra function\n",
    "import matplotlib.pyplot as plt #for visualizing the data"
   ]
  },
  {
   "cell_type": "markdown",
   "id": "4fd35a4b-3760-45e8-bee7-ba821472e1f5",
   "metadata": {},
   "source": [
    "#Importing the dataset\n",
    "I have used a simple 'score card' dataset of students to perform this regression\n"
   ]
  },
  {
   "cell_type": "code",
   "execution_count": 2,
   "id": "f245b54e-d5fe-438b-aab6-24e74df23185",
   "metadata": {},
   "outputs": [],
   "source": [
    "#---> Replace the path name for your path name\n",
    "student_scores=pd.read_csv('C:/Users/ADMIN/Documents/Data science algorithms/student_scores.csv')"
   ]
  },
  {
   "cell_type": "markdown",
   "id": "71b0c8fd-ae08-4714-bc39-8009f9c10282",
   "metadata": {},
   "source": [
    "#Analysing the dataset"
   ]
  },
  {
   "cell_type": "code",
   "execution_count": 3,
   "id": "50a7519e-1d02-444d-9c92-43da8b0fc494",
   "metadata": {},
   "outputs": [
    {
     "data": {
      "text/html": [
       "<div>\n",
       "<style scoped>\n",
       "    .dataframe tbody tr th:only-of-type {\n",
       "        vertical-align: middle;\n",
       "    }\n",
       "\n",
       "    .dataframe tbody tr th {\n",
       "        vertical-align: top;\n",
       "    }\n",
       "\n",
       "    .dataframe thead th {\n",
       "        text-align: right;\n",
       "    }\n",
       "</style>\n",
       "<table border=\"1\" class=\"dataframe\">\n",
       "  <thead>\n",
       "    <tr style=\"text-align: right;\">\n",
       "      <th></th>\n",
       "      <th>Hours</th>\n",
       "      <th>Scores</th>\n",
       "    </tr>\n",
       "  </thead>\n",
       "  <tbody>\n",
       "    <tr>\n",
       "      <th>0</th>\n",
       "      <td>2.5</td>\n",
       "      <td>21</td>\n",
       "    </tr>\n",
       "    <tr>\n",
       "      <th>1</th>\n",
       "      <td>5.1</td>\n",
       "      <td>47</td>\n",
       "    </tr>\n",
       "    <tr>\n",
       "      <th>2</th>\n",
       "      <td>3.2</td>\n",
       "      <td>27</td>\n",
       "    </tr>\n",
       "    <tr>\n",
       "      <th>3</th>\n",
       "      <td>8.5</td>\n",
       "      <td>75</td>\n",
       "    </tr>\n",
       "    <tr>\n",
       "      <th>4</th>\n",
       "      <td>3.5</td>\n",
       "      <td>30</td>\n",
       "    </tr>\n",
       "  </tbody>\n",
       "</table>\n",
       "</div>"
      ],
      "text/plain": [
       "   Hours  Scores\n",
       "0    2.5      21\n",
       "1    5.1      47\n",
       "2    3.2      27\n",
       "3    8.5      75\n",
       "4    3.5      30"
      ]
     },
     "execution_count": 3,
     "metadata": {},
     "output_type": "execute_result"
    }
   ],
   "source": [
    "student_scores.head() #---> First 5 rows"
   ]
  },
  {
   "cell_type": "code",
   "execution_count": 4,
   "id": "d4653bc2-a5bb-456e-8425-9a5ae1732fec",
   "metadata": {},
   "outputs": [
    {
     "data": {
      "text/plain": [
       "(25, 2)"
      ]
     },
     "execution_count": 4,
     "metadata": {},
     "output_type": "execute_result"
    }
   ],
   "source": [
    "student_scores.shape #---> Number of rows and columns"
   ]
  },
  {
   "cell_type": "markdown",
   "id": "f2996e0e-09cd-4543-bbb7-bb340f6cf69a",
   "metadata": {},
   "source": [
    "The above simple dataset has 25 rows/samples and 2 columns with LABELS - Hours , Scores "
   ]
  },
  {
   "cell_type": "code",
   "execution_count": 5,
   "id": "d0562616-d7d9-438b-93fa-ab8e347bda13",
   "metadata": {},
   "outputs": [
    {
     "data": {
      "text/html": [
       "<div>\n",
       "<style scoped>\n",
       "    .dataframe tbody tr th:only-of-type {\n",
       "        vertical-align: middle;\n",
       "    }\n",
       "\n",
       "    .dataframe tbody tr th {\n",
       "        vertical-align: top;\n",
       "    }\n",
       "\n",
       "    .dataframe thead th {\n",
       "        text-align: right;\n",
       "    }\n",
       "</style>\n",
       "<table border=\"1\" class=\"dataframe\">\n",
       "  <thead>\n",
       "    <tr style=\"text-align: right;\">\n",
       "      <th></th>\n",
       "      <th>Hours</th>\n",
       "      <th>Scores</th>\n",
       "    </tr>\n",
       "  </thead>\n",
       "  <tbody>\n",
       "    <tr>\n",
       "      <th>Hours</th>\n",
       "      <td>1.000000</td>\n",
       "      <td>0.976191</td>\n",
       "    </tr>\n",
       "    <tr>\n",
       "      <th>Scores</th>\n",
       "      <td>0.976191</td>\n",
       "      <td>1.000000</td>\n",
       "    </tr>\n",
       "  </tbody>\n",
       "</table>\n",
       "</div>"
      ],
      "text/plain": [
       "           Hours    Scores\n",
       "Hours   1.000000  0.976191\n",
       "Scores  0.976191  1.000000"
      ]
     },
     "execution_count": 5,
     "metadata": {},
     "output_type": "execute_result"
    }
   ],
   "source": [
    "student_scores.corr() #--> To find correlation between the columns "
   ]
  },
  {
   "cell_type": "markdown",
   "id": "b392c09c-d789-4aec-8e78-4f07c3176388",
   "metadata": {},
   "source": [
    "values closer to 1 , has more correlation between those columns\n",
    "values not closer to 1, has very less or no correlation between those columns \n",
    "values = 1 , is more correlated or has same values "
   ]
  },
  {
   "cell_type": "code",
   "execution_count": 6,
   "id": "f58ddb70-5dad-4c5e-ab52-e9815c9b9fec",
   "metadata": {},
   "outputs": [
    {
     "data": {
      "text/plain": [
       "Hours     0\n",
       "Scores    0\n",
       "dtype: int64"
      ]
     },
     "execution_count": 6,
     "metadata": {},
     "output_type": "execute_result"
    }
   ],
   "source": [
    "student_scores.isnull().sum() #Checking for null values present in each column"
   ]
  },
  {
   "cell_type": "markdown",
   "id": "24c924ce-7fef-4567-ada4-78239a71cfdd",
   "metadata": {},
   "source": [
    "Since, no null values we can assume the x and y variables for regression"
   ]
  },
  {
   "cell_type": "markdown",
   "id": "fa2b8a0d-8c15-45f3-8555-83c1a95fc523",
   "metadata": {},
   "source": [
    "Y - Scores column (Dependent variable)\n",
    "X - Hours column (Independent variable)"
   ]
  },
  {
   "cell_type": "code",
   "execution_count": 7,
   "id": "f59da734-3a5c-446b-b4e3-858d0cf6eb81",
   "metadata": {},
   "outputs": [],
   "source": [
    "x=student_scores.Hours.values.reshape(-1,1) #----> Assuming and reshaping the values into 1D array\n",
    "y=student_scores.Scores.values.reshape(-1,1)"
   ]
  },
  {
   "cell_type": "markdown",
   "id": "b4831700-8e13-4259-b75e-b083f6f848b7",
   "metadata": {},
   "source": [
    "Visualising the data using Matplotlib.pyplot"
   ]
  },
  {
   "cell_type": "code",
   "execution_count": 8,
   "id": "66a09b3c-2106-4b5e-bc0a-1ef1105f66b7",
   "metadata": {},
   "outputs": [
    {
     "data": {
      "image/png": "[encoded data removed]",
      "text/plain": [
       "<Figure size 640x480 with 1 Axes>"
      ]
     },
     "metadata": {},
     "output_type": "display_data"
    }
   ],
   "source": [
    "plt.scatter(x,y,color='blue')\n",
    "plt.xlabel('Number of Hours studied')\n",
    "plt.ylabel('Scores Obtained')\n",
    "plt.title('Simple Linear graph')\n",
    "plt.show()"
   ]
  },
  {
   "cell_type": "markdown",
   "id": "c0c3dafb-718e-4f9c-9c50-9694233313a5",
   "metadata": {},
   "source": [
    "Simple liner regression involves a BEST FIT line for prediction using y=mx+c equation."
   ]
  },
  {
   "cell_type": "markdown",
   "id": "cf7ce076-138c-4b7c-8150-9e45fd875ae7",
   "metadata": {},
   "source": [
    "We can predict simple linear regression using Equation and also with model prediction "
   ]
  },
  {
   "cell_type": "raw",
   "id": "076808f7-62f2-45ff-9ab9-33df3faf9fe5",
   "metadata": {},
   "source": [
    "1. Using model prediction"
   ]
  },
  {
   "cell_type": "markdown",
   "id": "c370b193-1258-4511-ada6-5449dacba34c",
   "metadata": {},
   "source": [
    "Splitting the dataset into training and test dataset using scikit learn"
   ]
  },
  {
   "cell_type": "code",
   "execution_count": 9,
   "id": "129bf5ad-01e5-4e41-aade-6ba0af0de625",
   "metadata": {},
   "outputs": [],
   "source": [
    "from sklearn.model_selection import train_test_split \n",
    "x_train,x_test,y_train,y_test=train_test_split(x,y,test_size=0.2,random_state=0)"
   ]
  },
  {
   "cell_type": "markdown",
   "id": "719dc604-f588-4846-aaa6-45ecf712da97",
   "metadata": {},
   "source": [
    "Training the model"
   ]
  },
  {
   "cell_type": "code",
   "execution_count": 10,
   "id": "dd4f0bc4-f053-4cf6-addf-78f164e60d63",
   "metadata": {},
   "outputs": [
    {
     "data": {
      "text/html": [
       "<style>#sk-container-id-1 {color: black;background-color: white;}#sk-container-id-1 pre{padding: 0;}#sk-container-id-1 div.sk-toggleable {background-color: white;}#sk-container-id-1 label.sk-toggleable__label {cursor: pointer;display: block;width: 100%;margin-bottom: 0;padding: 0.3em;box-sizing: border-box;text-align: center;}#sk-container-id-1 label.sk-toggleable__label-arrow:before {content: \"▸\";float: left;margin-right: 0.25em;color: #696969;}#sk-container-id-1 label.sk-toggleable__label-arrow:hover:before {color: black;}#sk-container-id-1 div.sk-estimator:hover label.sk-toggleable__label-arrow:before {color: black;}#sk-container-id-1 div.sk-toggleable__content {max-height: 0;max-width: 0;overflow: hidden;text-align: left;background-color: #f0f8ff;}#sk-container-id-1 div.sk-toggleable__content pre {margin: 0.2em;color: black;border-radius: 0.25em;background-color: #f0f8ff;}#sk-container-id-1 input.sk-toggleable__control:checked~div.sk-toggleable__content {max-height: 200px;max-width: 100%;overflow: auto;}#sk-container-id-1 input.sk-toggleable__control:checked~label.sk-toggleable__label-arrow:before {content: \"▾\";}#sk-container-id-1 div.sk-estimator input.sk-toggleable__control:checked~label.sk-toggleable__label {background-color: #d4ebff;}#sk-container-id-1 div.sk-label input.sk-toggleable__control:checked~label.sk-toggleable__label {background-color: #d4ebff;}#sk-container-id-1 input.sk-hidden--visually {border: 0;clip: rect(1px 1px 1px 1px);clip: rect(1px, 1px, 1px, 1px);height: 1px;margin: -1px;overflow: hidden;padding: 0;position: absolute;width: 1px;}#sk-container-id-1 div.sk-estimator {font-family: monospace;background-color: #f0f8ff;border: 1px dotted black;border-radius: 0.25em;box-sizing: border-box;margin-bottom: 0.5em;}#sk-container-id-1 div.sk-estimator:hover {background-color: #d4ebff;}#sk-container-id-1 div.sk-parallel-item::after {content: \"\";width: 100%;border-bottom: 1px solid gray;flex-grow: 1;}#sk-container-id-1 div.sk-label:hover label.sk-toggleable__label {background-color: #d4ebff;}#sk-container-id-1 div.sk-serial::before {content: \"\";position: absolute;border-left: 1px solid gray;box-sizing: border-box;top: 0;bottom: 0;left: 50%;z-index: 0;}#sk-container-id-1 div.sk-serial {display: flex;flex-direction: column;align-items: center;background-color: white;padding-right: 0.2em;padding-left: 0.2em;position: relative;}#sk-container-id-1 div.sk-item {position: relative;z-index: 1;}#sk-container-id-1 div.sk-parallel {display: flex;align-items: stretch;justify-content: center;background-color: white;position: relative;}#sk-container-id-1 div.sk-item::before, #sk-container-id-1 div.sk-parallel-item::before {content: \"\";position: absolute;border-left: 1px solid gray;box-sizing: border-box;top: 0;bottom: 0;left: 50%;z-index: -1;}#sk-container-id-1 div.sk-parallel-item {display: flex;flex-direction: column;z-index: 1;position: relative;background-color: white;}#sk-container-id-1 div.sk-parallel-item:first-child::after {align-self: flex-end;width: 50%;}#sk-container-id-1 div.sk-parallel-item:last-child::after {align-self: flex-start;width: 50%;}#sk-container-id-1 div.sk-parallel-item:only-child::after {width: 0;}#sk-container-id-1 div.sk-dashed-wrapped {border: 1px dashed gray;margin: 0 0.4em 0.5em 0.4em;box-sizing: border-box;padding-bottom: 0.4em;background-color: white;}#sk-container-id-1 div.sk-label label {font-family: monospace;font-weight: bold;display: inline-block;line-height: 1.2em;}#sk-container-id-1 div.sk-label-container {text-align: center;}#sk-container-id-1 div.sk-container {/* jupyter's `normalize.less` sets `[hidden] { display: none; }` but bootstrap.min.css set `[hidden] { display: none !important; }` so we also need the `!important` here to be able to override the default hidden behavior on the sphinx rendered scikit-learn.org. See: https://github.com/scikit-learn/scikit-learn/issues/21755 */display: inline-block !important;position: relative;}#sk-container-id-1 div.sk-text-repr-fallback {display: none;}</style><div id=\"sk-container-id-1\" class=\"sk-top-container\"><div class=\"sk-text-repr-fallback\"><pre>LinearRegression()</pre><b>In a Jupyter environment, please rerun this cell to show the HTML representation or trust the notebook. <br />On GitHub, the HTML representation is unable to render, please try loading this page with nbviewer.org.</b></div><div class=\"sk-container\" hidden><div class=\"sk-item\"><div class=\"sk-estimator sk-toggleable\"><input class=\"sk-toggleable__control sk-hidden--visually\" id=\"sk-estimator-id-1\" type=\"checkbox\" checked><label for=\"sk-estimator-id-1\" class=\"sk-toggleable__label sk-toggleable__label-arrow\">LinearRegression</label><div class=\"sk-toggleable__content\"><pre>LinearRegression()</pre></div></div></div></div></div>"
      ],
      "text/plain": [
       "LinearRegression()"
      ]
     },
     "execution_count": 10,
     "metadata": {},
     "output_type": "execute_result"
    }
   ],
   "source": [
    "from sklearn.linear_model import LinearRegression\n",
    "from sklearn.metrics import r2_score, mean_squared_error\n",
    "model=LinearRegression()\n",
    "model.fit(x_train,y_train)"
   ]
  },
  {
   "cell_type": "markdown",
   "id": "b942c245-9e96-41b8-b8d5-1ae2ab34d6d1",
   "metadata": {},
   "source": [
    "Predictions using the model"
   ]
  },
  {
   "cell_type": "code",
   "execution_count": 11,
   "id": "29071c49-5b8f-4c15-a866-eb08c4bec36c",
   "metadata": {},
   "outputs": [
    {
     "data": {
      "text/plain": [
       "array([39.67865467, 20.84840735, 79.32128059, 70.40168976, 12.91988217,\n",
       "       52.56250809, 78.33021494, 34.72332643, 84.27660883, 93.19619966,\n",
       "       62.47316457, 36.70545772, 28.77693254, 56.52677068, 28.77693254,\n",
       "       86.25874013, 26.79480124, 49.58931115, 90.22300272, 46.6161142 ])"
      ]
     },
     "execution_count": 11,
     "metadata": {},
     "output_type": "execute_result"
    }
   ],
   "source": [
    "model_predictions=model.predict(x_train)\n",
    "model_predictions.flatten()"
   ]
  },
  {
   "cell_type": "markdown",
   "id": "5bf8f6bb-5607-488b-9a16-0ae5f22b6f0f",
   "metadata": {},
   "source": [
    "Drawing the best fit line in the graph"
   ]
  },
  {
   "cell_type": "code",
   "execution_count": 12,
   "id": "614b0864-5a9f-4181-b71f-f7b6ad4be55a",
   "metadata": {},
   "outputs": [
    {
     "data": {
      "image/png": "[encoded data removed]",
      "text/plain": [
       "<Figure size 640x480 with 1 Axes>"
      ]
     },
     "metadata": {},
     "output_type": "display_data"
    }
   ],
   "source": [
    "plt.scatter(x,y,color='blue')\n",
    "plt.plot(x_train,model_predictions,color='red')\n",
    "plt.xlabel('Number of Hours studied')\n",
    "plt.ylabel('Scores Obtained')\n",
    "plt.title('Simple Linear graph')\n",
    "plt.show()"
   ]
  },
  {
   "cell_type": "markdown",
   "id": "7055c20d-3cff-4f04-9735-f13fdd03815f",
   "metadata": {},
   "source": [
    "Finding the Accuracy of the model using R-Squared method"
   ]
  },
  {
   "cell_type": "code",
   "execution_count": 13,
   "id": "a7fbdcc7-7a74-40d6-9339-1377f746676b",
   "metadata": {},
   "outputs": [
    {
     "name": "stdout",
     "output_type": "stream",
     "text": [
      "95.15510725211553\n"
     ]
    }
   ],
   "source": [
    "accuracy_score=model.score(x_train,y_train)\n",
    "print(accuracy_score*100)"
   ]
  },
  {
   "cell_type": "code",
   "execution_count": 14,
   "id": "0b165da9-60b5-4a66-b013-c8e7723aa02e",
   "metadata": {},
   "outputs": [
    {
     "data": {
      "text/plain": [
       "30.898182377314544"
      ]
     },
     "execution_count": 14,
     "metadata": {},
     "output_type": "execute_result"
    }
   ],
   "source": [
    "error=mean_squared_error(y_train,model_predictions)\n",
    "error"
   ]
  },
  {
   "cell_type": "markdown",
   "id": "a3011594-6d17-45c5-b819-47f98acb2b3b",
   "metadata": {},
   "source": [
    "Our model has predicted 95% accuracy with least number of error \n"
   ]
  },
  {
   "cell_type": "raw",
   "id": "f14374b2-6447-4bfb-9814-b9b37f39c2ac",
   "metadata": {},
   "source": [
    "2.Predictions using formula/Mannual method"
   ]
  },
  {
   "cell_type": "code",
   "execution_count": 15,
   "id": "842cf6a5-1ea1-477f-bb10-075e40353bbe",
   "metadata": {},
   "outputs": [
    {
     "data": {
      "text/plain": [
       "(array([[9.91065648]]), array([2.01816004]))"
      ]
     },
     "execution_count": 15,
     "metadata": {},
     "output_type": "execute_result"
    }
   ],
   "source": [
    "slope=model.coef_\n",
    "intercept=model.intercept_\n",
    "slope, intercept"
   ]
  },
  {
   "cell_type": "code",
   "execution_count": 16,
   "id": "3fd57b13-03f8-4d22-adf8-4d0a387a875f",
   "metadata": {},
   "outputs": [
    {
     "data": {
      "text/plain": [
       "array([39.67865467, 20.84840735, 79.32128059, 70.40168976, 12.91988217,\n",
       "       52.56250809, 78.33021494, 34.72332643, 84.27660883, 93.19619966,\n",
       "       62.47316457, 36.70545772, 28.77693254, 56.52677068, 28.77693254,\n",
       "       86.25874013, 26.79480124, 49.58931115, 90.22300272, 46.6161142 ])"
      ]
     },
     "execution_count": 16,
     "metadata": {},
     "output_type": "execute_result"
    }
   ],
   "source": [
    "mannual_predictions=(slope*x_train)+intercept\n",
    "mannual_predictions.flatten()"
   ]
  },
  {
   "cell_type": "code",
   "execution_count": 17,
   "id": "a6439cb2-6d25-4359-87ad-8e17be27ba6d",
   "metadata": {},
   "outputs": [
    {
     "name": "stdout",
     "output_type": "stream",
     "text": [
      "95.15510725211553\n"
     ]
    }
   ],
   "source": [
    "mannual_score=r2_score(y_train,mannual_predictions)\n",
    "print(accuracy_score*100)"
   ]
  },
  {
   "cell_type": "markdown",
   "id": "ad2db990-b29f-4bf0-89b7-0bc759a6c579",
   "metadata": {},
   "source": [
    "Like this, Simple linear algorithms can be implemented and used for predictions"
   ]
  }
 ],
 "metadata": {
  "kernelspec": {
   "display_name": "Python 3 (ipykernel)",
   "language": "python",
   "name": "python3"
  },
  "language_info": {
   "codemirror_mode": {
    "name": "ipython",
    "version": 3
   },
   "file_extension": ".py",
   "mimetype": "text/x-python",
   "name": "python",
   "nbconvert_exporter": "python",
   "pygments_lexer": "ipython3",
   "version": "3.11.7"
  }
 },
 "nbformat": 4,
 "nbformat_minor": 5
}
