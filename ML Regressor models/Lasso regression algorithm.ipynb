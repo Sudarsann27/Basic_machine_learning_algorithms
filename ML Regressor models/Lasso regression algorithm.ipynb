{
 "cells": [
  {
   "cell_type": "markdown",
   "id": "5533b73b-50f5-4f8d-923b-143ce878de22",
   "metadata": {},
   "source": [
    "# // LASSO REGRESSION MODEL //"
   ]
  },
  {
   "cell_type": "markdown",
   "id": "d8ffa4dc-f1bf-4799-b3ef-48de7c6587ef",
   "metadata": {},
   "source": [
    "#Importing necessary libraries for data preprocessing"
   ]
  },
  {
   "cell_type": "code",
   "execution_count": 1,
   "id": "c58083fd-4af2-4c92-9c32-68723e055ab4",
   "metadata": {},
   "outputs": [],
   "source": [
    "import pandas as pd #For reading the dataset and to perform framing functions if needed\n",
    "import numpy as np  #linear algebra function\n",
    "import matplotlib.pyplot as plt #for visualizing the data\n",
    "import seaborn as sns #for data distribution\n"
   ]
  },
  {
   "cell_type": "markdown",
   "id": "16f51a6d-9d5c-4f6a-bfd2-fcd3b4bb0e6d",
   "metadata": {},
   "source": [
    "#Importing the dataset I have used a simple 'WAVE' dataset to perform this regression"
   ]
  },
  {
   "cell_type": "code",
   "execution_count": 2,
   "id": "4786a07e-8df7-44df-88c1-09b1819bb357",
   "metadata": {},
   "outputs": [],
   "source": [
    "#---> Replace the path name for your path name\n",
    "waves_data=pd.read_csv('C:/Users/ADMIN/Documents/Data science algorithms/waves.csv')"
   ]
  },
  {
   "cell_type": "markdown",
   "id": "6a3df6fc-13ce-45f9-a039-d57e582439aa",
   "metadata": {},
   "source": [
    "#Analysing the dataset"
   ]
  },
  {
   "cell_type": "code",
   "execution_count": 3,
   "id": "e49c2b46-ca3c-462d-9b57-bdff71833e2c",
   "metadata": {},
   "outputs": [
    {
     "data": {
      "text/html": [
       "<div>\n",
       "<style scoped>\n",
       "    .dataframe tbody tr th:only-of-type {\n",
       "        vertical-align: middle;\n",
       "    }\n",
       "\n",
       "    .dataframe tbody tr th {\n",
       "        vertical-align: top;\n",
       "    }\n",
       "\n",
       "    .dataframe thead th {\n",
       "        text-align: right;\n",
       "    }\n",
       "</style>\n",
       "<table border=\"1\" class=\"dataframe\">\n",
       "  <thead>\n",
       "    <tr style=\"text-align: right;\">\n",
       "      <th></th>\n",
       "      <th>hh</th>\n",
       "      <th>WDIR</th>\n",
       "      <th>WSPD</th>\n",
       "      <th>GST</th>\n",
       "      <th>DPD</th>\n",
       "      <th>APD</th>\n",
       "      <th>MWD</th>\n",
       "      <th>PRES</th>\n",
       "      <th>ATMP</th>\n",
       "      <th>WTMP</th>\n",
       "      <th>DEWP</th>\n",
       "      <th>WVHT</th>\n",
       "    </tr>\n",
       "  </thead>\n",
       "  <tbody>\n",
       "    <tr>\n",
       "      <th>0</th>\n",
       "      <td>1</td>\n",
       "      <td>23</td>\n",
       "      <td>3.0</td>\n",
       "      <td>3.6</td>\n",
       "      <td>4.17</td>\n",
       "      <td>3.33</td>\n",
       "      <td>349</td>\n",
       "      <td>1019.1</td>\n",
       "      <td>4.7</td>\n",
       "      <td>5.1</td>\n",
       "      <td>4.2</td>\n",
       "      <td>0.39</td>\n",
       "    </tr>\n",
       "    <tr>\n",
       "      <th>1</th>\n",
       "      <td>2</td>\n",
       "      <td>30</td>\n",
       "      <td>2.9</td>\n",
       "      <td>3.3</td>\n",
       "      <td>5.26</td>\n",
       "      <td>4.21</td>\n",
       "      <td>358</td>\n",
       "      <td>1018.8</td>\n",
       "      <td>4.6</td>\n",
       "      <td>4.8</td>\n",
       "      <td>4.1</td>\n",
       "      <td>0.65</td>\n",
       "    </tr>\n",
       "    <tr>\n",
       "      <th>2</th>\n",
       "      <td>3</td>\n",
       "      <td>360</td>\n",
       "      <td>2.2</td>\n",
       "      <td>2.5</td>\n",
       "      <td>5.88</td>\n",
       "      <td>4.79</td>\n",
       "      <td>11</td>\n",
       "      <td>1018.3</td>\n",
       "      <td>4.6</td>\n",
       "      <td>4.7</td>\n",
       "      <td>4.2</td>\n",
       "      <td>0.90</td>\n",
       "    </tr>\n",
       "    <tr>\n",
       "      <th>3</th>\n",
       "      <td>4</td>\n",
       "      <td>355</td>\n",
       "      <td>2.5</td>\n",
       "      <td>3.1</td>\n",
       "      <td>5.88</td>\n",
       "      <td>4.95</td>\n",
       "      <td>23</td>\n",
       "      <td>1018.1</td>\n",
       "      <td>4.6</td>\n",
       "      <td>4.6</td>\n",
       "      <td>4.2</td>\n",
       "      <td>0.91</td>\n",
       "    </tr>\n",
       "    <tr>\n",
       "      <th>4</th>\n",
       "      <td>5</td>\n",
       "      <td>355</td>\n",
       "      <td>3.5</td>\n",
       "      <td>4.5</td>\n",
       "      <td>6.25</td>\n",
       "      <td>4.98</td>\n",
       "      <td>26</td>\n",
       "      <td>1018.3</td>\n",
       "      <td>4.5</td>\n",
       "      <td>4.6</td>\n",
       "      <td>4.0</td>\n",
       "      <td>0.88</td>\n",
       "    </tr>\n",
       "  </tbody>\n",
       "</table>\n",
       "</div>"
      ],
      "text/plain": [
       "   hh  WDIR  WSPD  GST   DPD   APD  MWD    PRES  ATMP  WTMP  DEWP  WVHT\n",
       "0   1    23   3.0  3.6  4.17  3.33  349  1019.1   4.7   5.1   4.2  0.39\n",
       "1   2    30   2.9  3.3  5.26  4.21  358  1018.8   4.6   4.8   4.1  0.65\n",
       "2   3   360   2.2  2.5  5.88  4.79   11  1018.3   4.6   4.7   4.2  0.90\n",
       "3   4   355   2.5  3.1  5.88  4.95   23  1018.1   4.6   4.6   4.2  0.91\n",
       "4   5   355   3.5  4.5  6.25  4.98   26  1018.3   4.5   4.6   4.0  0.88"
      ]
     },
     "execution_count": 3,
     "metadata": {},
     "output_type": "execute_result"
    }
   ],
   "source": [
    "waves_data.head() #---> First 5 rows"
   ]
  },
  {
   "cell_type": "code",
   "execution_count": 4,
   "id": "19b9a7ad-96d6-48eb-acc6-45ebaf3610c6",
   "metadata": {},
   "outputs": [
    {
     "data": {
      "text/plain": [
       "(3886, 12)"
      ]
     },
     "execution_count": 4,
     "metadata": {},
     "output_type": "execute_result"
    }
   ],
   "source": [
    "waves_data.shape #---> Number of rows and columns"
   ]
  },
  {
   "cell_type": "code",
   "execution_count": 5,
   "id": "ec77c42b-a7c5-4fc3-a0d9-a7ae0fef13dd",
   "metadata": {},
   "outputs": [
    {
     "data": {
      "text/plain": [
       "hh      0\n",
       "WDIR    0\n",
       "WSPD    0\n",
       "GST     0\n",
       "DPD     0\n",
       "APD     0\n",
       "MWD     0\n",
       "PRES    0\n",
       "ATMP    0\n",
       "WTMP    0\n",
       "DEWP    0\n",
       "WVHT    0\n",
       "dtype: int64"
      ]
     },
     "execution_count": 5,
     "metadata": {},
     "output_type": "execute_result"
    }
   ],
   "source": [
    "waves_data.isnull().sum() #Checking for null values present in each column"
   ]
  },
  {
   "cell_type": "code",
   "execution_count": 6,
   "id": "cc042de7-f4f7-4e73-ad9a-07004f930680",
   "metadata": {},
   "outputs": [
    {
     "data": {
      "text/html": [
       "<div>\n",
       "<style scoped>\n",
       "    .dataframe tbody tr th:only-of-type {\n",
       "        vertical-align: middle;\n",
       "    }\n",
       "\n",
       "    .dataframe tbody tr th {\n",
       "        vertical-align: top;\n",
       "    }\n",
       "\n",
       "    .dataframe thead th {\n",
       "        text-align: right;\n",
       "    }\n",
       "</style>\n",
       "<table border=\"1\" class=\"dataframe\">\n",
       "  <thead>\n",
       "    <tr style=\"text-align: right;\">\n",
       "      <th></th>\n",
       "      <th>hh</th>\n",
       "      <th>WDIR</th>\n",
       "      <th>WSPD</th>\n",
       "      <th>GST</th>\n",
       "      <th>DPD</th>\n",
       "      <th>APD</th>\n",
       "      <th>MWD</th>\n",
       "      <th>PRES</th>\n",
       "      <th>ATMP</th>\n",
       "      <th>WTMP</th>\n",
       "      <th>DEWP</th>\n",
       "      <th>WVHT</th>\n",
       "    </tr>\n",
       "  </thead>\n",
       "  <tbody>\n",
       "    <tr>\n",
       "      <th>hh</th>\n",
       "      <td>1.000000</td>\n",
       "      <td>0.009239</td>\n",
       "      <td>-0.041710</td>\n",
       "      <td>-0.046681</td>\n",
       "      <td>-0.007235</td>\n",
       "      <td>-0.011667</td>\n",
       "      <td>0.014815</td>\n",
       "      <td>-0.002354</td>\n",
       "      <td>0.001455</td>\n",
       "      <td>0.010371</td>\n",
       "      <td>-0.009992</td>\n",
       "      <td>-0.005297</td>\n",
       "    </tr>\n",
       "    <tr>\n",
       "      <th>WDIR</th>\n",
       "      <td>0.009239</td>\n",
       "      <td>1.000000</td>\n",
       "      <td>-0.080887</td>\n",
       "      <td>-0.070849</td>\n",
       "      <td>-0.052099</td>\n",
       "      <td>-0.055171</td>\n",
       "      <td>0.400040</td>\n",
       "      <td>-0.158441</td>\n",
       "      <td>-0.020251</td>\n",
       "      <td>-0.037577</td>\n",
       "      <td>-0.033285</td>\n",
       "      <td>-0.072296</td>\n",
       "    </tr>\n",
       "    <tr>\n",
       "      <th>WSPD</th>\n",
       "      <td>-0.041710</td>\n",
       "      <td>-0.080887</td>\n",
       "      <td>1.000000</td>\n",
       "      <td>0.986938</td>\n",
       "      <td>0.265773</td>\n",
       "      <td>0.342741</td>\n",
       "      <td>-0.074604</td>\n",
       "      <td>-0.102649</td>\n",
       "      <td>0.110911</td>\n",
       "      <td>0.129435</td>\n",
       "      <td>0.066140</td>\n",
       "      <td>0.676804</td>\n",
       "    </tr>\n",
       "    <tr>\n",
       "      <th>GST</th>\n",
       "      <td>-0.046681</td>\n",
       "      <td>-0.070849</td>\n",
       "      <td>0.986938</td>\n",
       "      <td>1.000000</td>\n",
       "      <td>0.282885</td>\n",
       "      <td>0.362590</td>\n",
       "      <td>-0.065117</td>\n",
       "      <td>-0.084490</td>\n",
       "      <td>0.105744</td>\n",
       "      <td>0.136223</td>\n",
       "      <td>0.050991</td>\n",
       "      <td>0.691531</td>\n",
       "    </tr>\n",
       "    <tr>\n",
       "      <th>DPD</th>\n",
       "      <td>-0.007235</td>\n",
       "      <td>-0.052099</td>\n",
       "      <td>0.265773</td>\n",
       "      <td>0.282885</td>\n",
       "      <td>1.000000</td>\n",
       "      <td>0.908203</td>\n",
       "      <td>-0.191378</td>\n",
       "      <td>0.090682</td>\n",
       "      <td>-0.163948</td>\n",
       "      <td>-0.037411</td>\n",
       "      <td>-0.232985</td>\n",
       "      <td>0.735568</td>\n",
       "    </tr>\n",
       "    <tr>\n",
       "      <th>APD</th>\n",
       "      <td>-0.011667</td>\n",
       "      <td>-0.055171</td>\n",
       "      <td>0.342741</td>\n",
       "      <td>0.362590</td>\n",
       "      <td>0.908203</td>\n",
       "      <td>1.000000</td>\n",
       "      <td>-0.200644</td>\n",
       "      <td>0.090726</td>\n",
       "      <td>-0.138025</td>\n",
       "      <td>-0.001819</td>\n",
       "      <td>-0.218562</td>\n",
       "      <td>0.854101</td>\n",
       "    </tr>\n",
       "    <tr>\n",
       "      <th>MWD</th>\n",
       "      <td>0.014815</td>\n",
       "      <td>0.400040</td>\n",
       "      <td>-0.074604</td>\n",
       "      <td>-0.065117</td>\n",
       "      <td>-0.191378</td>\n",
       "      <td>-0.200644</td>\n",
       "      <td>1.000000</td>\n",
       "      <td>-0.142733</td>\n",
       "      <td>-0.026456</td>\n",
       "      <td>-0.065393</td>\n",
       "      <td>-0.023773</td>\n",
       "      <td>-0.164750</td>\n",
       "    </tr>\n",
       "    <tr>\n",
       "      <th>PRES</th>\n",
       "      <td>-0.002354</td>\n",
       "      <td>-0.158441</td>\n",
       "      <td>-0.102649</td>\n",
       "      <td>-0.084490</td>\n",
       "      <td>0.090682</td>\n",
       "      <td>0.090726</td>\n",
       "      <td>-0.142733</td>\n",
       "      <td>1.000000</td>\n",
       "      <td>0.145336</td>\n",
       "      <td>0.286754</td>\n",
       "      <td>-0.015896</td>\n",
       "      <td>-0.000905</td>\n",
       "    </tr>\n",
       "    <tr>\n",
       "      <th>ATMP</th>\n",
       "      <td>0.001455</td>\n",
       "      <td>-0.020251</td>\n",
       "      <td>0.110911</td>\n",
       "      <td>0.105744</td>\n",
       "      <td>-0.163948</td>\n",
       "      <td>-0.138025</td>\n",
       "      <td>-0.026456</td>\n",
       "      <td>0.145336</td>\n",
       "      <td>1.000000</td>\n",
       "      <td>0.952580</td>\n",
       "      <td>0.939676</td>\n",
       "      <td>-0.071976</td>\n",
       "    </tr>\n",
       "    <tr>\n",
       "      <th>WTMP</th>\n",
       "      <td>0.010371</td>\n",
       "      <td>-0.037577</td>\n",
       "      <td>0.129435</td>\n",
       "      <td>0.136223</td>\n",
       "      <td>-0.037411</td>\n",
       "      <td>-0.001819</td>\n",
       "      <td>-0.065393</td>\n",
       "      <td>0.286754</td>\n",
       "      <td>0.952580</td>\n",
       "      <td>1.000000</td>\n",
       "      <td>0.850205</td>\n",
       "      <td>0.033039</td>\n",
       "    </tr>\n",
       "    <tr>\n",
       "      <th>DEWP</th>\n",
       "      <td>-0.009992</td>\n",
       "      <td>-0.033285</td>\n",
       "      <td>0.066140</td>\n",
       "      <td>0.050991</td>\n",
       "      <td>-0.232985</td>\n",
       "      <td>-0.218562</td>\n",
       "      <td>-0.023773</td>\n",
       "      <td>-0.015896</td>\n",
       "      <td>0.939676</td>\n",
       "      <td>0.850205</td>\n",
       "      <td>1.000000</td>\n",
       "      <td>-0.141361</td>\n",
       "    </tr>\n",
       "    <tr>\n",
       "      <th>WVHT</th>\n",
       "      <td>-0.005297</td>\n",
       "      <td>-0.072296</td>\n",
       "      <td>0.676804</td>\n",
       "      <td>0.691531</td>\n",
       "      <td>0.735568</td>\n",
       "      <td>0.854101</td>\n",
       "      <td>-0.164750</td>\n",
       "      <td>-0.000905</td>\n",
       "      <td>-0.071976</td>\n",
       "      <td>0.033039</td>\n",
       "      <td>-0.141361</td>\n",
       "      <td>1.000000</td>\n",
       "    </tr>\n",
       "  </tbody>\n",
       "</table>\n",
       "</div>"
      ],
      "text/plain": [
       "            hh      WDIR      WSPD       GST       DPD       APD       MWD  \\\n",
       "hh    1.000000  0.009239 -0.041710 -0.046681 -0.007235 -0.011667  0.014815   \n",
       "WDIR  0.009239  1.000000 -0.080887 -0.070849 -0.052099 -0.055171  0.400040   \n",
       "WSPD -0.041710 -0.080887  1.000000  0.986938  0.265773  0.342741 -0.074604   \n",
       "GST  -0.046681 -0.070849  0.986938  1.000000  0.282885  0.362590 -0.065117   \n",
       "DPD  -0.007235 -0.052099  0.265773  0.282885  1.000000  0.908203 -0.191378   \n",
       "APD  -0.011667 -0.055171  0.342741  0.362590  0.908203  1.000000 -0.200644   \n",
       "MWD   0.014815  0.400040 -0.074604 -0.065117 -0.191378 -0.200644  1.000000   \n",
       "PRES -0.002354 -0.158441 -0.102649 -0.084490  0.090682  0.090726 -0.142733   \n",
       "ATMP  0.001455 -0.020251  0.110911  0.105744 -0.163948 -0.138025 -0.026456   \n",
       "WTMP  0.010371 -0.037577  0.129435  0.136223 -0.037411 -0.001819 -0.065393   \n",
       "DEWP -0.009992 -0.033285  0.066140  0.050991 -0.232985 -0.218562 -0.023773   \n",
       "WVHT -0.005297 -0.072296  0.676804  0.691531  0.735568  0.854101 -0.164750   \n",
       "\n",
       "          PRES      ATMP      WTMP      DEWP      WVHT  \n",
       "hh   -0.002354  0.001455  0.010371 -0.009992 -0.005297  \n",
       "WDIR -0.158441 -0.020251 -0.037577 -0.033285 -0.072296  \n",
       "WSPD -0.102649  0.110911  0.129435  0.066140  0.676804  \n",
       "GST  -0.084490  0.105744  0.136223  0.050991  0.691531  \n",
       "DPD   0.090682 -0.163948 -0.037411 -0.232985  0.735568  \n",
       "APD   0.090726 -0.138025 -0.001819 -0.218562  0.854101  \n",
       "MWD  -0.142733 -0.026456 -0.065393 -0.023773 -0.164750  \n",
       "PRES  1.000000  0.145336  0.286754 -0.015896 -0.000905  \n",
       "ATMP  0.145336  1.000000  0.952580  0.939676 -0.071976  \n",
       "WTMP  0.286754  0.952580  1.000000  0.850205  0.033039  \n",
       "DEWP -0.015896  0.939676  0.850205  1.000000 -0.141361  \n",
       "WVHT -0.000905 -0.071976  0.033039 -0.141361  1.000000  "
      ]
     },
     "execution_count": 6,
     "metadata": {},
     "output_type": "execute_result"
    }
   ],
   "source": [
    "waves_data.corr() #--> To find correlation between the columns "
   ]
  },
  {
   "cell_type": "code",
   "execution_count": 7,
   "id": "d918b133-f778-4615-b5e5-2cee57adb0d2",
   "metadata": {},
   "outputs": [],
   "source": [
    "x=waves_data.ATMP.values.reshape(-1,1)"
   ]
  },
  {
   "cell_type": "code",
   "execution_count": 8,
   "id": "03e7e684-fc41-4cc9-a7b7-8951b428a5c9",
   "metadata": {},
   "outputs": [],
   "source": [
    "y=waves_data.WTMP.values.reshape(-1,1)"
   ]
  },
  {
   "cell_type": "code",
   "execution_count": 9,
   "id": "da8a3c83-5c4a-4d70-9c29-de6507ccfa9b",
   "metadata": {},
   "outputs": [
    {
     "data": {
      "image/png": "[encoded data removed]",
      "text/plain": [
       "<Figure size 640x480 with 1 Axes>"
      ]
     },
     "metadata": {},
     "output_type": "display_data"
    }
   ],
   "source": [
    "plt.scatter(x,y,color='blue')\n",
    "plt.xlabel('ATMP Semiconductor values')\n",
    "plt.ylabel('WTMP Semiconductor values')\n",
    "plt.title('Linear graph')\n",
    "plt.show()"
   ]
  },
  {
   "cell_type": "code",
   "execution_count": 10,
   "id": "c3be3fb2-0503-49e6-9797-3ae9bbe4a4af",
   "metadata": {},
   "outputs": [],
   "source": [
    "from sklearn.model_selection import train_test_split \n",
    "x_train,x_test,y_train,y_test=train_test_split(x,y,test_size=0.3,random_state=42)"
   ]
  },
  {
   "cell_type": "markdown",
   "id": "ea5d184e-cbdc-430a-ab2a-d2873c4988e0",
   "metadata": {},
   "source": [
    "Training the model"
   ]
  },
  {
   "cell_type": "code",
   "execution_count": 11,
   "id": "5aa2dbba-ab22-4206-b75b-c062793d9ce2",
   "metadata": {},
   "outputs": [],
   "source": [
    "from sklearn.linear_model import Lasso\n",
    "from sklearn.model_selection import GridSearchCV\n",
    "from sklearn.metrics import r2_score, mean_squared_error\n",
    "model=Lasso()"
   ]
  },
  {
   "cell_type": "code",
   "execution_count": 12,
   "id": "91672c53-3aef-4e83-89ba-e2b58fe40de3",
   "metadata": {},
   "outputs": [],
   "source": [
    "parametres={'alpha':[0.001,0.01,0.1,1,5,10,12,15,20]}"
   ]
  },
  {
   "cell_type": "code",
   "execution_count": 13,
   "id": "93a186c5-ddd7-4bf9-bb42-3cdcb96d60df",
   "metadata": {},
   "outputs": [
    {
     "data": {
      "text/html": [
       "<style>#sk-container-id-1 {color: black;background-color: white;}#sk-container-id-1 pre{padding: 0;}#sk-container-id-1 div.sk-toggleable {background-color: white;}#sk-container-id-1 label.sk-toggleable__label {cursor: pointer;display: block;width: 100%;margin-bottom: 0;padding: 0.3em;box-sizing: border-box;text-align: center;}#sk-container-id-1 label.sk-toggleable__label-arrow:before {content: \"▸\";float: left;margin-right: 0.25em;color: #696969;}#sk-container-id-1 label.sk-toggleable__label-arrow:hover:before {color: black;}#sk-container-id-1 div.sk-estimator:hover label.sk-toggleable__label-arrow:before {color: black;}#sk-container-id-1 div.sk-toggleable__content {max-height: 0;max-width: 0;overflow: hidden;text-align: left;background-color: #f0f8ff;}#sk-container-id-1 div.sk-toggleable__content pre {margin: 0.2em;color: black;border-radius: 0.25em;background-color: #f0f8ff;}#sk-container-id-1 input.sk-toggleable__control:checked~div.sk-toggleable__content {max-height: 200px;max-width: 100%;overflow: auto;}#sk-container-id-1 input.sk-toggleable__control:checked~label.sk-toggleable__label-arrow:before {content: \"▾\";}#sk-container-id-1 div.sk-estimator input.sk-toggleable__control:checked~label.sk-toggleable__label {background-color: #d4ebff;}#sk-container-id-1 div.sk-label input.sk-toggleable__control:checked~label.sk-toggleable__label {background-color: #d4ebff;}#sk-container-id-1 input.sk-hidden--visually {border: 0;clip: rect(1px 1px 1px 1px);clip: rect(1px, 1px, 1px, 1px);height: 1px;margin: -1px;overflow: hidden;padding: 0;position: absolute;width: 1px;}#sk-container-id-1 div.sk-estimator {font-family: monospace;background-color: #f0f8ff;border: 1px dotted black;border-radius: 0.25em;box-sizing: border-box;margin-bottom: 0.5em;}#sk-container-id-1 div.sk-estimator:hover {background-color: #d4ebff;}#sk-container-id-1 div.sk-parallel-item::after {content: \"\";width: 100%;border-bottom: 1px solid gray;flex-grow: 1;}#sk-container-id-1 div.sk-label:hover label.sk-toggleable__label {background-color: #d4ebff;}#sk-container-id-1 div.sk-serial::before {content: \"\";position: absolute;border-left: 1px solid gray;box-sizing: border-box;top: 0;bottom: 0;left: 50%;z-index: 0;}#sk-container-id-1 div.sk-serial {display: flex;flex-direction: column;align-items: center;background-color: white;padding-right: 0.2em;padding-left: 0.2em;position: relative;}#sk-container-id-1 div.sk-item {position: relative;z-index: 1;}#sk-container-id-1 div.sk-parallel {display: flex;align-items: stretch;justify-content: center;background-color: white;position: relative;}#sk-container-id-1 div.sk-item::before, #sk-container-id-1 div.sk-parallel-item::before {content: \"\";position: absolute;border-left: 1px solid gray;box-sizing: border-box;top: 0;bottom: 0;left: 50%;z-index: -1;}#sk-container-id-1 div.sk-parallel-item {display: flex;flex-direction: column;z-index: 1;position: relative;background-color: white;}#sk-container-id-1 div.sk-parallel-item:first-child::after {align-self: flex-end;width: 50%;}#sk-container-id-1 div.sk-parallel-item:last-child::after {align-self: flex-start;width: 50%;}#sk-container-id-1 div.sk-parallel-item:only-child::after {width: 0;}#sk-container-id-1 div.sk-dashed-wrapped {border: 1px dashed gray;margin: 0 0.4em 0.5em 0.4em;box-sizing: border-box;padding-bottom: 0.4em;background-color: white;}#sk-container-id-1 div.sk-label label {font-family: monospace;font-weight: bold;display: inline-block;line-height: 1.2em;}#sk-container-id-1 div.sk-label-container {text-align: center;}#sk-container-id-1 div.sk-container {/* jupyter's `normalize.less` sets `[hidden] { display: none; }` but bootstrap.min.css set `[hidden] { display: none !important; }` so we also need the `!important` here to be able to override the default hidden behavior on the sphinx rendered scikit-learn.org. See: https://github.com/scikit-learn/scikit-learn/issues/21755 */display: inline-block !important;position: relative;}#sk-container-id-1 div.sk-text-repr-fallback {display: none;}</style><div id=\"sk-container-id-1\" class=\"sk-top-container\"><div class=\"sk-text-repr-fallback\"><pre>GridSearchCV(cv=5, estimator=Lasso(),\n",
       "             param_grid={&#x27;alpha&#x27;: [0.001, 0.01, 0.1, 1, 5, 10, 12, 15, 20]},\n",
       "             scoring=&#x27;neg_mean_squared_error&#x27;)</pre><b>In a Jupyter environment, please rerun this cell to show the HTML representation or trust the notebook. <br />On GitHub, the HTML representation is unable to render, please try loading this page with nbviewer.org.</b></div><div class=\"sk-container\" hidden><div class=\"sk-item sk-dashed-wrapped\"><div class=\"sk-label-container\"><div class=\"sk-label sk-toggleable\"><input class=\"sk-toggleable__control sk-hidden--visually\" id=\"sk-estimator-id-1\" type=\"checkbox\" ><label for=\"sk-estimator-id-1\" class=\"sk-toggleable__label sk-toggleable__label-arrow\">GridSearchCV</label><div class=\"sk-toggleable__content\"><pre>GridSearchCV(cv=5, estimator=Lasso(),\n",
       "             param_grid={&#x27;alpha&#x27;: [0.001, 0.01, 0.1, 1, 5, 10, 12, 15, 20]},\n",
       "             scoring=&#x27;neg_mean_squared_error&#x27;)</pre></div></div></div><div class=\"sk-parallel\"><div class=\"sk-parallel-item\"><div class=\"sk-item\"><div class=\"sk-label-container\"><div class=\"sk-label sk-toggleable\"><input class=\"sk-toggleable__control sk-hidden--visually\" id=\"sk-estimator-id-2\" type=\"checkbox\" ><label for=\"sk-estimator-id-2\" class=\"sk-toggleable__label sk-toggleable__label-arrow\">estimator: Lasso</label><div class=\"sk-toggleable__content\"><pre>Lasso()</pre></div></div></div><div class=\"sk-serial\"><div class=\"sk-item\"><div class=\"sk-estimator sk-toggleable\"><input class=\"sk-toggleable__control sk-hidden--visually\" id=\"sk-estimator-id-3\" type=\"checkbox\" ><label for=\"sk-estimator-id-3\" class=\"sk-toggleable__label sk-toggleable__label-arrow\">Lasso</label><div class=\"sk-toggleable__content\"><pre>Lasso()</pre></div></div></div></div></div></div></div></div></div></div>"
      ],
      "text/plain": [
       "GridSearchCV(cv=5, estimator=Lasso(),\n",
       "             param_grid={'alpha': [0.001, 0.01, 0.1, 1, 5, 10, 12, 15, 20]},\n",
       "             scoring='neg_mean_squared_error')"
      ]
     },
     "execution_count": 13,
     "metadata": {},
     "output_type": "execute_result"
    }
   ],
   "source": [
    "grid_model=GridSearchCV(model,parametres,scoring='neg_mean_squared_error',cv=5) #check those parametres in scikit documentation\n",
    "grid_model.fit(x_train,y_train)"
   ]
  },
  {
   "cell_type": "code",
   "execution_count": 14,
   "id": "0a094cb7-59c4-4639-9e5a-1fa22f5c76e5",
   "metadata": {},
   "outputs": [
    {
     "data": {
      "text/plain": [
       "{'alpha': 0.01}"
      ]
     },
     "execution_count": 14,
     "metadata": {},
     "output_type": "execute_result"
    }
   ],
   "source": [
    "grid_model.best_params_  #To find which parametrs was suitable "
   ]
  },
  {
   "cell_type": "code",
   "execution_count": 15,
   "id": "6b54304e-57fd-42d5-83cd-76b7c25ab77d",
   "metadata": {},
   "outputs": [
    {
     "data": {
      "text/plain": [
       "array([ 6.61499765, 22.17424232,  9.02558485, ...,  6.39585336,\n",
       "       17.90092865, 18.9966501 ])"
      ]
     },
     "execution_count": 15,
     "metadata": {},
     "output_type": "execute_result"
    }
   ],
   "source": [
    "predictions=grid_model.predict(x_test)\n",
    "predictions.flatten()"
   ]
  },
  {
   "cell_type": "code",
   "execution_count": 16,
   "id": "fc4ebcdb-3a1b-49d9-b140-af1dc2ef04fa",
   "metadata": {},
   "outputs": [
    {
     "name": "stdout",
     "output_type": "stream",
     "text": [
      "91.1422043744725\n"
     ]
    }
   ],
   "source": [
    "score=r2_score(y_test,predictions)\n",
    "print(score*100)"
   ]
  },
  {
   "cell_type": "markdown",
   "id": "efa4932f-ab5a-41bb-aee5-7b03b70ed21d",
   "metadata": {},
   "source": [
    "Drawing the best fit line in the graph"
   ]
  },
  {
   "cell_type": "code",
   "execution_count": 17,
   "id": "e02ce460-a20f-44b2-947d-0b8edd6ed140",
   "metadata": {},
   "outputs": [
    {
     "data": {
      "image/png": "[encoded data removed]",
      "text/plain": [
       "<Figure size 640x480 with 1 Axes>"
      ]
     },
     "metadata": {},
     "output_type": "display_data"
    }
   ],
   "source": [
    "plt.scatter(x,y,color='blue')\n",
    "plt.plot(x_test,predictions,color='red')\n",
    "plt.xlabel('ATMP Semiconductor values')\n",
    "plt.ylabel('WTMP Semiconductor values')\n",
    "plt.title('Linear graph')\n",
    "plt.show()"
   ]
  },
  {
   "cell_type": "markdown",
   "id": "ce26d3a5-7c3b-4c39-8d12-13447b0d6c38",
   "metadata": {},
   "source": [
    "This Lasso can be done to avoid underfitting "
   ]
  }
 ],
 "metadata": {
  "kernelspec": {
   "display_name": "Python 3 (ipykernel)",
   "language": "python",
   "name": "python3"
  },
  "language_info": {
   "codemirror_mode": {
    "name": "ipython",
    "version": 3
   },
   "file_extension": ".py",
   "mimetype": "text/x-python",
   "name": "python",
   "nbconvert_exporter": "python",
   "pygments_lexer": "ipython3",
   "version": "3.11.7"
  }
 },
 "nbformat": 4,
 "nbformat_minor": 5
}
